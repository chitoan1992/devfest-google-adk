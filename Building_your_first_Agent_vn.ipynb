{
 "cells": [
  {
   "cell_type": "markdown",
   "metadata": {
    "id": "Np0plMPXRvoq"
   },
   "source": [
    "# 🤖 Xây Dựng Agent Đầu Tiên với Google ADK\n",
    "\n",
    "<a href=\"https://colab.research.google.com/github/chitoan1992/devfest-google-adk/blob/master/Building_your_first_Agent_vn.ipynb\" target=\"_parent\"><img src=\"https://colab.research.google.com/assets/colab-badge.svg\" alt=\"Open In Colab\"/></a>\n",
    "\n",
    "> 10 năm trước: AI agent chỉ trong phim viễn tưởng\n",
    "> \n",
    "> 5 năm trước: Chỉ trong labs nghiên cứu\n",
    "> \n",
    "> **Hôm nay: Bạn tự build trong 90 phút**\n",
    "\n",
    "![](https://raw.githubusercontent.com/chitoan1992/devfest-google-adk/refs/heads/master/media/LinkToWorkshop.png)\n",
    "\n",
    "## ADK là gì?\n",
    "\n",
    "**Agent Development Kit (ADK)** - Framework Python giúp bạn xây dựng ứng dụng AI với LLMs một cách đơn giản và mạnh mẽ.\n",
    "\n",
    "![](https://google.github.io/adk-docs/assets/adk-components.png)\n",
    "\n",
    "> **\"Ai đã từng làm việc với LangChain hay AutoGen? Điểm khác biệt của ADK là gì?\"**\n",
    "\n",
    "**Bạn sẽ học được gì:**\n",
    "- ✨ Xây dựng agent đầu tiên với tools (Weather Bot)\n",
    "- 👥 Thiết kế multi-agent teams với automatic delegation\n",
    "- 🚀 Setup fullstack agent app với ADK Starter Pack\n",
    "- 📋 Áp dụng agents cho hackathon workflow (MVP Planning + Pitch Generator)\n",
    "- ⚡ Sử dụng AI builders (AI Studio, WebSim) để tạo app nhanh chóng\n",
    "\n",
    "**Yêu cầu:**\n",
    "- ✅ Python cơ bản\n",
    "- ✅ Hiểu về LLMs & APIs\n",
    "- ✅ API Keys (Google AI Studio)\n",
    "\n",
    "![](https://google.github.io/adk-docs/assets/adk-lifecycle.png)"
   ]
  },
  {
   "cell_type": "markdown",
   "metadata": {},
   "source": [
    "## 📋 Bước 0: Cài đặt\n",
    "\n",
    "### Lấy Gemini API Credit\n",
    "👉 **Link nhận credit:** https://trygcp.dev/claim/gdg-mientrung-road-to-devfest-code-1\n",
    "\n",
    "👉 **Link slide hướng dẫn:** [Hướng dẫn lấy credit](https://docs.google.com/presentation/d/1fnQNauWcxgt5eqhTAuaBGn2giNQU6f_f_fv3R7nAvp4/edit?slide=id.g2399cbc1e14_0_411&resourcekey=0-dlnAU4LYN8QV27uVMLeIQA#slide=id.g2399cbc1e14_0_411)\n",
    "\n",
    "✅ **Checkpoint:** Bạn có API key? Copy và paste vào cell dưới."
   ]
  },
  {
   "cell_type": "code",
   "execution_count": null,
   "metadata": {},
   "outputs": [],
   "source": [
    "# @title Cấu hình API Keys (Thay thế bằng keys thực tế của bạn!)\n",
    "import os\n",
    "from google.colab import userdata\n",
    "\n",
    "\n",
    "# Gemini API Key (Lấy từ Google AI Studio: https://aistudio.google.com/app/apikey)\n",
    "os.environ[\"GOOGLE_API_KEY\"] = userdata.get('GOOGLE_API_KEY')\n",
    "\n",
    "# Cấu hình ADK để sử dụng API keys trực tiếp\n",
    "os.environ[\"GOOGLE_GENAI_USE_VERTEXAI\"] = \"False\"\n",
    "\n",
    "# @markdown **Lưu ý Bảo mật:** Nên quản lý API keys một cách an toàn (ví dụ: sử dụng Colab Secrets hoặc environment variables) thay vì hardcode trực tiếp trong notebook. Thay thế các placeholder strings ở trên."
   ]
  },
  {
   "cell_type": "code",
   "execution_count": null,
   "metadata": {
    "id": "ARCoeUZCRNGi"
   },
   "outputs": [],
   "source": [
    "# @title Thiết lập và Cài đặt\n",
    "# Cài đặt Google ADK\n",
    "\n",
    "!pip install -U -q google-adk"
   ]
  },
  {
   "cell_type": "code",
   "execution_count": 2,
   "metadata": {
    "colab": {
     "base_uri": "https://localhost:8080/"
    },
    "id": "fpY3y_ZrEngS",
    "outputId": "5ce5b1d8-0ab4-4293-8139-1d43b4bf2cee"
   },
   "outputs": [
    {
     "name": "stdout",
     "output_type": "stream",
     "text": [
      "1.16.0\n"
     ]
    }
   ],
   "source": [
    "# Kiểm tra phiên bản ADK\n",
    "from google import adk\n",
    "\n",
    "print(adk.__version__)"
   ]
  },
  {
   "cell_type": "markdown",
   "metadata": {
    "id": "5lVouVYxFHI3"
   },
   "source": [
    "### Khởi động lại runtime\n",
    "\n",
    "Để sử dụng các packages vừa cài đặt, cần khởi động lại runtime.\n",
    "\n",
    "**Lưu ý:** Sau khi restart, chạy lại các cells từ đầu (bỏ qua cell restart này)."
   ]
  },
  {
   "cell_type": "code",
   "execution_count": null,
   "metadata": {
    "colab": {
     "base_uri": "https://localhost:8080/"
    },
    "id": "nFSDoAEhFDYm",
    "outputId": "bd4704ff-f1bb-439f-8203-cc6aede5b889"
   },
   "outputs": [
    {
     "data": {
      "text/plain": [
       "{'status': 'ok', 'restart': True}"
      ]
     },
     "execution_count": 3,
     "metadata": {},
     "output_type": "execute_result"
    }
   ],
   "source": [
    "import IPython\n",
    "\n",
    "app = IPython.Application.instance()\n",
    "app.kernel.do_shutdown(True)"
   ]
  },
  {
   "cell_type": "code",
   "execution_count": 3,
   "metadata": {
    "colab": {
     "base_uri": "https://localhost:8080/"
    },
    "id": "sbwxKypOSBkN",
    "outputId": "792ad6d9-6ff1-49db-997d-b42eb7d8bda0"
   },
   "outputs": [
    {
     "name": "stdout",
     "output_type": "stream",
     "text": [
      "\u001b[92m✅ Đã import thành công các thư viện ADK!\u001b[0m\n"
     ]
    }
   ],
   "source": [
    "# @title Import các thư viện cần thiết\n",
    "import datetime\n",
    "import os\n",
    "from zoneinfo import ZoneInfo\n",
    "from google.adk.agents import Agent\n",
    "from google.adk.sessions import InMemorySessionService\n",
    "from google.adk.runners import Runner\n",
    "from google.genai import types\n",
    "\n",
    "import warnings\n",
    "warnings.filterwarnings(\"ignore\")\n",
    "\n",
    "import logging\n",
    "# Tắt tất cả logging để output sạch hơn\n",
    "logging.basicConfig(level=logging.CRITICAL)\n",
    "logging.getLogger('asyncio').setLevel(logging.CRITICAL)\n",
    "logging.getLogger('google_genai').setLevel(logging.CRITICAL)\n",
    "logging.getLogger('google.adk').setLevel(logging.CRITICAL)\n",
    "\n",
    "# Thêm colored output cho Colab\n",
    "from IPython.display import HTML, display\n",
    "\n",
    "class Colors:\n",
    "    \"\"\"ANSI color codes cho terminal output\"\"\"\n",
    "    HEADER = '\\033[95m'\n",
    "    OKBLUE = '\\033[94m'\n",
    "    OKCYAN = '\\033[96m'\n",
    "    OKGREEN = '\\033[92m'\n",
    "    WARNING = '\\033[93m'\n",
    "    FAIL = '\\033[91m'\n",
    "    ENDC = '\\033[0m'\n",
    "    BOLD = '\\033[1m'\n",
    "    UNDERLINE = '\\033[4m'\n",
    "\n",
    "def print_success(text):\n",
    "    \"\"\"In text màu xanh lá\"\"\"\n",
    "    print(f\"{Colors.OKGREEN}{text}{Colors.ENDC}\")\n",
    "\n",
    "def print_info(text):\n",
    "    \"\"\"In text màu cyan\"\"\"\n",
    "    print(f\"{Colors.OKCYAN}{text}{Colors.ENDC}\")\n",
    "\n",
    "def print_warning(text):\n",
    "    \"\"\"In text màu vàng\"\"\"\n",
    "    print(f\"{Colors.WARNING}{text}{Colors.ENDC}\")\n",
    "\n",
    "def print_error(text):\n",
    "    \"\"\"In text màu đỏ\"\"\"\n",
    "    print(f\"{Colors.FAIL}{text}{Colors.ENDC}\")\n",
    "\n",
    "def print_header(text):\n",
    "    \"\"\"In header màu tím bold\"\"\"\n",
    "    print(f\"{Colors.BOLD}{Colors.HEADER}{text}{Colors.ENDC}\")\n",
    "\n",
    "print_success(\"✅ Đã import thành công các thư viện ADK!\")"
   ]
  },
  {
   "cell_type": "code",
   "execution_count": null,
   "metadata": {},
   "outputs": [],
   "source": [
    "# --- Định nghĩa Model Constants ---\n",
    "AGENT_MODEL = \"gemini-2.5-flash\"\n",
    "\n",
    "print_info(f\"🚀 Sẵn sàng xây dựng agent với {Colors.BOLD}Gemini 2.5 Flash{Colors.ENDC}!\")"
   ]
  },
  {
   "cell_type": "markdown",
   "metadata": {
    "id": "F7LZM3ysSOMu"
   },
   "source": [
    "---\n",
    "\n",
    "> **\"Giới hạn của mô hình ngôn ngữ lớn là gì ?\"**\n",
    "\n",
    "## 🌤️ Bước 1: Weather Agent - Agent Đầu Tiên\n",
    "\n",
    "![](https://raw.githubusercontent.com/chitoan1992/devfest-google-adk/refs/heads/master/media/Weather%20Agent.svg)\n",
    "\n",
    "Chúng ta sẽ xây dựng Weather Bot với 2 thành phần cốt lõi:\n",
    "\n",
    "### 1. 🔧 Tool: Khả Năng Hành Động\n",
    "\n",
    "**Tool** = Python function trang bị khả năng cho agent (gọi API, query database, tính toán...)\n",
    "\n",
    "**💡 Bí quyết:** Docstring chính là \"sách hướng dẫn\" cho LLM hiểu tool:\n",
    "- Làm **gì**?\n",
    "- **Khi nào** dùng?\n",
    "- **Tham số** nào?\n",
    "- **Trả về** gì?\n",
    "\n",
    "> **\"Tại sao chúng ta lại cần TOOLS?\"**\n",
    "\n",
    "### 2. 🧠 Agent: Bộ Não AI\n",
    "\n",
    "**Agent** = LLM + Instructions + Tools\n",
    "- Hiểu yêu cầu của user\n",
    "- Quyết định khi nào & cách sử dụng tools\n",
    "- Tạo phản hồi thông minh\n",
    "\n",
    "> **\"Nếu tool return một string dài 1000 chữ về thời tiết, agent có xử lý được không?\"**\n"
   ]
  },
  {
   "cell_type": "code",
   "execution_count": null,
   "metadata": {
    "colab": {
     "base_uri": "https://localhost:8080/"
    },
    "id": "ILy7YTCbSRAT",
    "outputId": "524f4f30-dab4-4aa2-9630-73121536648a"
   },
   "outputs": [
    {
     "name": "stdout",
     "output_type": "stream",
     "text": [
      "\u001b[1m\u001b[95m\n",
      "📝 Test tool:\u001b[0m\n",
      "\u001b[96m🔍 Đang tra cứu thời tiết: \u001b[1mHà Nội\u001b[0m\u001b[0m\n",
      "\u001b[92m✅ Tìm thấy dữ liệu thời tiết!\u001b[0m\n",
      "{'status': 'success', 'report': '☀️ Hà Nội: Nắng đẹp, 25°C'}\n",
      "\u001b[96m🔍 Đang tra cứu thời tiết: \u001b[1mĐà Nẵng\u001b[0m\u001b[0m\n",
      "\u001b[92m✅ Tìm thấy dữ liệu thời tiết!\u001b[0m\n",
      "{'status': 'success', 'report': '☀️ Đà Nẵng: Nắng đẹp, 27°C'}\n",
      "\u001b[96m🔍 Đang tra cứu thời tiết: \u001b[1mUnknown Location\u001b[0m\u001b[0m\n",
      "\u001b[91m❌ Không có dữ liệu cho 'Unknown Location'\u001b[0m\n",
      "{'status': 'error', 'error_message': \"Xin lỗi, không có thông tin thời tiết cho 'Unknown Location'.\"}\n"
     ]
    }
   ],
   "source": [
    "# @title Tool lấy thời tiết\n",
    "\n",
    "def get_weather(city: str) -> dict:\n",
    "    \"\"\"Lấy báo cáo thời tiết hiện tại cho một thành phố.\n",
    "\n",
    "    Args:\n",
    "        city: Tên thành phố (VD: \"Hà Nội\", \"London\", \"Tokyo\")\n",
    "\n",
    "    Returns:\n",
    "        dict: {'status': 'success'|'error', 'report': str} hoặc {'error_message': str}\n",
    "    \"\"\"\n",
    "    print_info(f\"🔍 Đang tra cứu thời tiết: {Colors.BOLD}{city}{Colors.ENDC}\")\n",
    "\n",
    "    city_normalized = city.lower().replace(\" \", \"\")\n",
    "\n",
    "    # Mock weather database\n",
    "    mock_weather_db = {\n",
    "        \"hanoi\": {\"status\": \"success\", \"report\": \"☀️ Hà Nội: Nắng đẹp, 25°C\"},\n",
    "        \"hànội\": {\"status\": \"success\", \"report\": \"☀️ Hà Nội: Nắng đẹp, 25°C\"},\n",
    "        \"danang\": {\"status\": \"success\", \"report\": \"☀️ Đà Nẵng: Nắng đẹp, 27°C\"},\n",
    "        \"đànẵng\": {\"status\": \"success\", \"report\": \"☀️ Đà Nẵng: Nắng đẹp, 27°C\"},\n",
    "        \"london\": {\"status\": \"success\", \"report\": \"☁️ London: Nhiều mây, 15°C\"},\n",
    "        \"tokyo\": {\"status\": \"success\", \"report\": \"🌧️ Tokyo: Mưa nhẹ, 18°C\"},\n",
    "    }\n",
    "\n",
    "    if city_normalized in mock_weather_db:\n",
    "        result = mock_weather_db[city_normalized]\n",
    "        print_success(f\"✅ Tìm thấy dữ liệu thời tiết!\")\n",
    "        return result\n",
    "    else:\n",
    "        print_error(f\"❌ Không có dữ liệu cho '{city}'\")\n",
    "        return {\"status\": \"error\", \"error_message\": f\"Xin lỗi, không có thông tin thời tiết cho '{city}'.\"}\n",
    "\n",
    "# Test tool\n",
    "print_header(\"\\n📝 Test tool:\")\n",
    "print(get_weather(\"Hà Nội\"))\n",
    "print(get_weather(\"Đà Nẵng\"))\n",
    "print(get_weather(\"Unknown Location\"))"
   ]
  },
  {
   "cell_type": "markdown",
   "metadata": {
    "id": "QpdMaUoLEpCm"
   },
   "source": [
    "### 💪 **Coding Challenge!**\n",
    "\n",
    "**Nhiệm vụ:** Nâng cấp hàm `get_weather()` để sử dụng API thời tiết thực tế thay vì mock data.\n",
    "\n",
    "**API:** `https://goweather.xyz/weather/{city_normalized}`\n",
    "\n",
    "**Ví dụ:** https://goweather.xyz/weather/Danang\n",
    "\n",
    "**Gợi ý:**\n",
    "- Sử dụng `requests` hoặc `httpx` để gọi API\n",
    "- Parse JSON response\n",
    "- Xử lý error cases (API fail, city not found...)\n"
   ]
  },
  {
   "cell_type": "code",
   "execution_count": null,
   "metadata": {
    "id": "3i6sWeagH5n3"
   },
   "outputs": [],
   "source": []
  },
  {
   "cell_type": "markdown",
   "metadata": {
    "id": "hAM0BqGWSTo5"
   },
   "source": [
    "### 🎯 Tạo Weather Agent\n",
    "\n",
    "**Công thức Agent:**\n",
    "```\n",
    "Agent = Model + Instructions + Tools + Description\n",
    "```\n",
    "\n",
    "**Các thành phần quan trọng:**\n",
    "- `name`: ID duy nhất\n",
    "- `model`: LLM nào được dùng (Gemini, GPT, Claude...)\n",
    "- `description`: Tóm tắt ngắn gọn về agent (dùng cho delegation)\n",
    "- `instruction`: Hướng dẫn chi tiết cách hoạt động\n",
    "- `tools`: Danh sách Python functions"
   ]
  },
  {
   "cell_type": "code",
   "execution_count": null,
   "metadata": {
    "colab": {
     "base_uri": "https://localhost:8080/"
    },
    "id": "6Ho1COmKSUeV",
    "outputId": "9f0b5ed3-c773-4ea3-bcfc-ea81b16c62bb"
   },
   "outputs": [
    {
     "name": "stdout",
     "output_type": "stream",
     "text": [
      "\u001b[92m✅ Agent '\u001b[1mweather_agent\u001b[0m' đã sẵn sàng với model \u001b[96mgemini-2.5-flash\u001b[0m!\u001b[0m\n"
     ]
    }
   ],
   "source": [
    "# @title Định nghĩa Weather Agent\n",
    "weather_agent = Agent(\n",
    "    name=\"weather_agent\",\n",
    "    model=AGENT_MODEL,\n",
    "    description=\"Cung cấp thông tin thời tiết cho các thành phố.\",\n",
    "    instruction=\"Bạn là trợ lý thời tiết. \"\n",
    "                \"Khi user hỏi về thời tiết, dùng tool 'get_weather'. \"\n",
    "                \"Nếu tool lỗi, thông báo lịch sự. \"\n",
    "                \"Nếu thành công, trình bày báo cáo rõ ràng.\",\n",
    "    tools=[get_weather],\n",
    ")\n",
    "\n",
    "print_success(f\"✅ Agent '{Colors.BOLD}{weather_agent.name}{Colors.ENDC}' đã sẵn sàng với model {Colors.OKCYAN}{AGENT_MODEL}{Colors.ENDC}!\")"
   ]
  },
  {
   "cell_type": "markdown",
   "metadata": {
    "id": "Dvz7LDhbSZxL"
   },
   "source": [
    "---\n",
    "\n",
    "> **\"Nếu tôi muốn agent nhớ preferences của user (ví dụ: luôn trả lời bằng tiếng Anh), làm thế nào?\"**\n",
    "\n",
    "### ⚙️ Thiết lập Runner & Session\n",
    "\n",
    "**2 components để chạy agent:**\n",
    "\n",
    "#### 1. 💾 SessionService\n",
    "Quản lý conversation history & state\n",
    "- `InMemorySessionService`: Lưu trong RAM (cho demo/testing)\n",
    "\n",
    "#### 2. 🎬 Runner\n",
    "Engine điều phối tương tác\n",
    "- Nhận input từ user\n",
    "- Định tuyến đến agent\n",
    "- Quản lý LLM & tool calls\n",
    "- Yield events theo tiến trình"
   ]
  },
  {
   "cell_type": "code",
   "execution_count": null,
   "metadata": {
    "colab": {
     "base_uri": "https://localhost:8080/"
    },
    "id": "h30dNtqMSah5",
    "outputId": "daae3dab-bfe8-4cf0-be25-2dc7b7011ccd"
   },
   "outputs": [
    {
     "name": "stdout",
     "output_type": "stream",
     "text": [
      "\u001b[92m✅ Session: \u001b[1msession_001\u001b[0m\u001b[0m\n",
      "\u001b[96m🎬 Runner sẵn sàng cho agent '\u001b[1mweather_agent\u001b[0m'\u001b[0m\n"
     ]
    }
   ],
   "source": [
    "# @title Thiết lập Session Service và Runner\n",
    "\n",
    "# Session Service: Quản lý conversation history\n",
    "session_service = InMemorySessionService()\n",
    "\n",
    "# Định nghĩa context\n",
    "APP_NAME = \"Weather Agent at GDG DevFest Đà Nẵng 2025\"\n",
    "USER_ID = \"user_1\"\n",
    "SESSION_ID = \"session_001\"\n",
    "\n",
    "# Tạo session\n",
    "session = await session_service.create_session(\n",
    "    app_name=APP_NAME,\n",
    "    user_id=USER_ID,\n",
    "    session_id=SESSION_ID\n",
    ")\n",
    "print_success(f\"✅ Session: {Colors.BOLD}{SESSION_ID}{Colors.ENDC}\")\n",
    "\n",
    "# Runner: Điều phối execution\n",
    "runner = Runner(\n",
    "    agent=weather_agent,\n",
    "    app_name=APP_NAME,\n",
    "    session_service=session_service\n",
    ")\n",
    "print_info(f\"🎬 Runner sẵn sàng cho agent '{Colors.BOLD}{runner.agent.name}{Colors.ENDC}'\")"
   ]
  },
  {
   "cell_type": "markdown",
   "metadata": {
    "id": "MYXqqvzdEpCm"
   },
   "source": []
  },
  {
   "cell_type": "markdown",
   "metadata": {
    "id": "5zKGVwRkSduA"
   },
   "source": [
    "---\n",
    "\n",
    "### 💬 Tương Tác Với Agent\n",
    "\n",
    "![](https://raw.githubusercontent.com/chitoan1992/devfest-google-adk/refs/heads/master/media/Weather%20Agent%20Flow.svg)\n",
    "\n",
    "**Async Flow:**\n",
    "1. Gửi query → `runner.run_async()`\n",
    "2. Runner yield **Events** (tool calls, LLM thoughts, responses...)\n",
    "3. Tìm `final_response` event\n",
    "4. Hiển thị kết quả\n",
    "\n",
    "**Tại sao async?** LLM & API calls là I/O-bound → async = hiệu quả hơn!"
   ]
  },
  {
   "cell_type": "code",
   "execution_count": 7,
   "metadata": {
    "id": "yZJr8lbkSebH"
   },
   "outputs": [],
   "source": [
    "# @title Định nghĩa Agent Interaction Function\n",
    "\n",
    "async def call_agent_async(query: str, runner, user_id, session_id):\n",
    "    \"\"\"Gửi query đến agent và hiển thị response.\"\"\"\n",
    "    # Header với màu\n",
    "    print(f\"\\n{Colors.BOLD}{Colors.OKCYAN}{'='*60}{Colors.ENDC}\")\n",
    "    print(f\"{Colors.BOLD}👤 User:{Colors.ENDC} {Colors.OKBLUE}{query}{Colors.ENDC}\")\n",
    "    print(f\"{Colors.BOLD}{Colors.OKCYAN}{'='*60}{Colors.ENDC}\")\n",
    "\n",
    "    # Chuẩn bị message\n",
    "    content = types.Content(role='user', parts=[types.Part(text=query)])\n",
    "\n",
    "    final_response_text = \"⚠️ Agent không tạo ra response.\"\n",
    "\n",
    "    # Thực thi agent và lặp qua events\n",
    "    async for event in runner.run_async(user_id=user_id, session_id=session_id, new_message=content):\n",
    "        if event.is_final_response():\n",
    "            if event.content and event.content.parts:\n",
    "                final_response_text = event.content.parts[0].text\n",
    "            elif event.actions and event.actions.escalate:\n",
    "                final_response_text = f\"⚠️ Agent escalated: {event.error_message or 'Không có message.'}\"\n",
    "            break\n",
    "\n",
    "    # Response với màu\n",
    "    print(f\"\\n{Colors.BOLD}🤖 Agent:{Colors.ENDC} {Colors.OKGREEN}{final_response_text}{Colors.ENDC}\")\n",
    "    print(f\"{Colors.BOLD}{Colors.OKCYAN}{'='*60}{Colors.ENDC}\\n\")\n",
    "\n",
    "async def call_agent_streaming(query: str, runner, user_id, session_id):\n",
    "    \"\"\"Gửi query đến agent và hiển thị response với streaming events.\"\"\"\n",
    "    # Header với màu\n",
    "    print(f\"\\n{Colors.BOLD}{Colors.OKCYAN}{'='*60}{Colors.ENDC}\")\n",
    "    print(f\"{Colors.BOLD}👤 User:{Colors.ENDC} {Colors.OKBLUE}{query}{Colors.ENDC}\")\n",
    "    print(f\"{Colors.BOLD}{Colors.OKCYAN}{'='*60}{Colors.ENDC}\\n\")\n",
    "\n",
    "    # Chuẩn bị message\n",
    "    content = types.Content(role='user', parts=[types.Part(text=query)])\n",
    "\n",
    "    final_response_text = \"⚠️ Agent không tạo ra response.\"\n",
    "\n",
    "    # Thực thi agent và lặp qua events với streaming\n",
    "    async for event in runner.run_async(user_id=user_id, session_id=session_id, new_message=content):\n",
    "        # 1. Hiển thị delegation events\n",
    "        if hasattr(event, 'delegated_to') and event.delegated_to:\n",
    "            print_warning(f\"🔄 Delegating to: {Colors.BOLD}{event.delegated_to}{Colors.ENDC}\")\n",
    "\n",
    "        # 2. Hiển thị tool calls\n",
    "        if hasattr(event, 'tool_calls') and event.tool_calls:\n",
    "            for tool_call in event.tool_calls:\n",
    "                tool_name = tool_call.name if hasattr(tool_call, 'name') else 'unknown'\n",
    "                print_info(f\"🔧 Tool called: {Colors.BOLD}{tool_name}{Colors.ENDC}\")\n",
    "\n",
    "        # 3. Hiển thị thinking/reasoning (nếu có)\n",
    "        if hasattr(event, 'thought') and event.thought:\n",
    "            print(f\"{Colors.WARNING}💭 Thinking: {event.thought}{Colors.ENDC}\")\n",
    "\n",
    "        # 4. Streaming response content\n",
    "        if hasattr(event, 'content') and event.content and hasattr(event.content, 'parts'):\n",
    "            for part in event.content.parts:\n",
    "                if hasattr(part, 'text') and part.text and not event.is_final_response():\n",
    "                    # Stream partial responses\n",
    "                    print(f\"{Colors.OKGREEN}{part.text}{Colors.ENDC}\", end=\"\", flush=True)\n",
    "\n",
    "        # 5. Final response\n",
    "        if event.is_final_response():\n",
    "            if event.content and event.content.parts:\n",
    "                final_response_text = event.content.parts[0].text\n",
    "                print(f\"\\n\\n{Colors.BOLD}🤖 Agent (Final):{Colors.ENDC} {Colors.OKGREEN}{final_response_text}{Colors.ENDC}\")\n",
    "            elif event.actions and event.actions.escalate:\n",
    "                final_response_text = f\"⚠️ Agent escalated: {event.error_message or 'Không có message.'}\"\n",
    "                print(f\"\\n{Colors.FAIL}{final_response_text}{Colors.ENDC}\")\n",
    "            break\n",
    "\n",
    "    print(f\"\\n{Colors.BOLD}{Colors.OKCYAN}{'='*60}{Colors.ENDC}\\n\")\n",
    "\n"
   ]
  },
  {
   "cell_type": "markdown",
   "metadata": {
    "id": "Z6DQSqrqk5ic"
   },
   "source": [
    "---\n",
    "\n",
    "### 🎮 Test Agent!"
   ]
  },
  {
   "cell_type": "code",
   "execution_count": null,
   "metadata": {
    "colab": {
     "base_uri": "https://localhost:8080/"
    },
    "id": "mEd2QhHyUKY8",
    "outputId": "9d7d22c5-2883-422a-9cd3-9a3b81902147"
   },
   "outputs": [
    {
     "name": "stdout",
     "output_type": "stream",
     "text": [
      "\u001b[1m\u001b[95m\n",
      "🎬 BẮT ĐẦU CONVERSATION\u001b[0m\n",
      "\n",
      "\u001b[1m\u001b[96m============================================================\u001b[0m\n",
      "\u001b[1m👤 User:\u001b[0m \u001b[94mThời tiết ở Hà Nội như thế nào?\u001b[0m\n",
      "\u001b[1m\u001b[96m============================================================\u001b[0m\n",
      "\u001b[96m🔍 Đang tra cứu thời tiết thực tế: \u001b[1mHà Nội\u001b[0m\u001b[0m\n",
      "\u001b[91m❌ Lỗi khi gọi API thời tiết: HTTPSConnectionPool(host='goweather.xyz', port=443): Read timed out. (read timeout=10)\u001b[0m\n",
      "\n",
      "\u001b[1m🤖 Agent:\u001b[0m \u001b[92mXin lỗi, tôi không thể lấy thông tin thời tiết cho Hà Nội vào lúc này. Vui lòng thử lại sau.\u001b[0m\n",
      "\u001b[1m\u001b[96m============================================================\u001b[0m\n",
      "\n",
      "\n",
      "\u001b[1m\u001b[96m============================================================\u001b[0m\n",
      "\u001b[1m👤 User:\u001b[0m \u001b[94mCòn Paris thì sao?\u001b[0m\n",
      "\u001b[1m\u001b[96m============================================================\u001b[0m\n",
      "\u001b[96m🔍 Đang tra cứu thời tiết thực tế: \u001b[1mParis\u001b[0m\u001b[0m\n",
      "\u001b[91m❌ Lỗi khi gọi API thời tiết: 404 Client Error: Not Found for url: https://goweather.xyz/weather/paris\u001b[0m\n",
      "\n",
      "\u001b[1m🤖 Agent:\u001b[0m \u001b[92mXin lỗi, tôi không thể lấy thông tin thời tiết cho Paris vào lúc này. Vui lòng thử lại sau.\u001b[0m\n",
      "\u001b[1m\u001b[96m============================================================\u001b[0m\n",
      "\n",
      "\n",
      "\u001b[1m\u001b[96m============================================================\u001b[0m\n",
      "\u001b[1m👤 User:\u001b[0m \u001b[94mCho tôi biết thời tiết ở London\u001b[0m\n",
      "\u001b[1m\u001b[96m============================================================\u001b[0m\n",
      "\u001b[96m🔍 Đang tra cứu thời tiết thực tế: \u001b[1mLondon\u001b[0m\u001b[0m\n",
      "\u001b[91m❌ Lỗi khi gọi API thời tiết: 404 Client Error: Not Found for url: https://goweather.xyz/weather/london\u001b[0m\n",
      "\n",
      "\u001b[1m🤖 Agent:\u001b[0m \u001b[92mXin lỗi, tôi không thể lấy thông tin thời tiết cho London vào lúc này. Vui lòng thử lại sau.\u001b[0m\n",
      "\u001b[1m\u001b[96m============================================================\u001b[0m\n",
      "\n",
      "\u001b[1m\u001b[95m🏁 KẾT THÚC CONVERSATION\n",
      "\u001b[0m\n"
     ]
    }
   ],
   "source": [
    "# @title Chạy Conversation\n",
    "\n",
    "async def run_conversation():\n",
    "    print_header(\"\\n🎬 BẮT ĐẦU CONVERSATION\")\n",
    "\n",
    "    await call_agent_async(\"Thời tiết ở Hà Nội như thế nào?\",\n",
    "                           runner=runner,\n",
    "                           user_id=USER_ID,\n",
    "                           session_id=SESSION_ID)\n",
    "\n",
    "    await call_agent_async(\"Còn Paris thì sao?\",\n",
    "                           runner=runner,\n",
    "                           user_id=USER_ID,\n",
    "                           session_id=SESSION_ID)\n",
    "\n",
    "    await call_agent_async(\"Cho tôi biết thời tiết ở London\",\n",
    "                           runner=runner,\n",
    "                           user_id=USER_ID,\n",
    "                           session_id=SESSION_ID)\n",
    "\n",
    "    print_header(\"🏁 KẾT THÚC CONVERSATION\\n\")\n",
    "\n",
    "await run_conversation()"
   ]
  },
  {
   "cell_type": "markdown",
   "metadata": {
    "id": "xbUzAGvsmB2a"
   },
   "source": [
    "---\n",
    "\n",
    "## 🎉 Hoàn Thành Bước 1!\n",
    "\n",
    "**Bạn đã tạo thành công agent đầu tiên:**\n",
    "- ✅ Hiểu yêu cầu của user\n",
    "- ✅ Sử dụng tool để tìm thông tin\n",
    "- ✅ Phản hồi thông minh dựa trên kết quả\n",
    "\n",
    "**Tiếp theo:** Xây dựng multi-agent team! 👥"
   ]
  },
  {
   "cell_type": "markdown",
   "metadata": {
    "id": "QYBN6rIvrFZR"
   },
   "source": [
    "## 👥 Bước 2: Multi-Agent Team - Delegation\n",
    "\n",
    "### Tại Sao Cần Agent Team?\n",
    "\n",
    "**Vấn đề:** 1 agent làm mọi thứ → khó quản lý, kém hiệu quả\n",
    "\n",
    "**Giải pháp:** Specialized Agent Team\n",
    "- 🧩 **Modularity:** Dễ develop, test, maintain\n",
    "- 🎯 **Specialization:** Mỗi agent tối ưu cho 1 task\n",
    "- 📈 **Scalability:** Thêm khả năng = thêm agent\n",
    "- ⚡ **Efficiency:** Dùng model phù hợp cho từng task\n",
    "\n",
    "### Kiến Trúc Agent Team\n",
    "\n",
    "```\n",
    "Root Agent (Orchestrator)\n",
    "    ├── 👋 Greeting Agent\n",
    "    ├── 🌤️ Weather Agent  \n",
    "    └── 👋 Farewell Agent\n",
    "```\n",
    "\n",
    "![](https://raw.githubusercontent.com/chitoan1992/devfest-google-adk/refs/heads/master/media/Multi%20Agent%20Team.svg)\n",
    "\n",
    "**Automatic Delegation:** Root agent tự động chuyển task đến sub-agent phù hợp nhất dựa trên `description`\n",
    "\n",
    "> **\"Nếu user hỏi: 'Xin chào! Thời tiết Hà Nội thế nào?' - agent xử lý thế nào?\"**"
   ]
  },
  {
   "cell_type": "markdown",
   "metadata": {
    "id": "jxzSZWjLr-sH"
   },
   "source": [
    "---\n",
    "\n",
    "### 🔧 Tools Cho Sub-Agents"
   ]
  },
  {
   "cell_type": "code",
   "execution_count": null,
   "metadata": {
    "colab": {
     "base_uri": "https://localhost:8080/"
    },
    "id": "Qc7dHr4ZVM6X",
    "outputId": "ce090939-63f6-456a-c3b4-bb8d31e26418"
   },
   "outputs": [
    {
     "name": "stdout",
     "output_type": "stream",
     "text": [
      "\u001b[1m\u001b[95m📝 Test tools:\u001b[0m\n",
      "\u001b[96m🔔 say_hello được gọi với: \u001b[1mMinh\u001b[0m\u001b[0m\n",
      "👋 Xin chào, Minh!\n",
      "\u001b[96m🔔 say_hello được gọi (không có tên)\u001b[0m\n",
      "👋 Xin chào!\n",
      "\u001b[96m🔔 say_goodbye được gọi\u001b[0m\n",
      "👋 Tạm biệt! Chúc bạn một ngày tốt lành! ✨\n"
     ]
    }
   ],
   "source": [
    "# @title Định nghĩa Tools cho Greeting và Farewell\n",
    "from typing import Optional\n",
    "\n",
    "def say_hello(name: Optional[str] = None) -> str:\n",
    "    \"\"\"Cung cấp lời chào thân thiện.\n",
    "\n",
    "    Args:\n",
    "        name: Tên người cần chào (optional)\n",
    "\n",
    "    Returns:\n",
    "        str: Message chào hỏi\n",
    "    \"\"\"\n",
    "    if name:\n",
    "        greeting = f\"👋 Xin chào, {name}!\"\n",
    "        print_info(f\"🔔 say_hello được gọi với: {Colors.BOLD}{name}{Colors.ENDC}\")\n",
    "    else:\n",
    "        greeting = \"👋 Xin chào!\"\n",
    "        print_info(f\"🔔 say_hello được gọi (không có tên)\")\n",
    "    return greeting\n",
    "\n",
    "def say_goodbye() -> str:\n",
    "    \"\"\"Cung cấp message tạm biệt.\"\"\"\n",
    "    print_info(f\"🔔 say_goodbye được gọi\")\n",
    "    return \"👋 Tạm biệt! Chúc bạn một ngày tốt lành! ✨\"\n",
    "\n",
    "# Test\n",
    "print_header(\"📝 Test tools:\")\n",
    "print(say_hello(\"Minh\"))\n",
    "print(say_hello())\n",
    "print(say_goodbye())"
   ]
  },
  {
   "cell_type": "markdown",
   "metadata": {
    "id": "lkv34_tMVPG3"
   },
   "source": [
    "---\n",
    "\n",
    "### 👋 Tạo Sub-Agents\n",
    "\n",
    "**💡 Chìa khóa delegation:** `description` phải rõ ràng, ngắn gọn!"
   ]
  },
  {
   "cell_type": "code",
   "execution_count": null,
   "metadata": {
    "colab": {
     "base_uri": "https://localhost:8080/"
    },
    "id": "tgT7P1doVRA0",
    "outputId": "b27df0c6-b70e-4a82-d53f-aa66f736fb80"
   },
   "outputs": [
    {
     "name": "stdout",
     "output_type": "stream",
     "text": [
      "\u001b[92m✅ \u001b[1mgreeting_agent\u001b[0m sẵn sàng!\u001b[0m\n",
      "\u001b[92m✅ \u001b[1mfarewell_agent\u001b[0m sẵn sàng!\u001b[0m\n"
     ]
    }
   ],
   "source": [
    "# @title Định nghĩa Sub-Agents\n",
    "\n",
    "# Greeting Agent\n",
    "greeting_agent = Agent(\n",
    "    model=AGENT_MODEL,\n",
    "    name=\"greeting_agent\",\n",
    "    instruction=\"Nhiệm vụ DUY NHẤT: Chào hỏi thân thiện. \"\n",
    "                \"Dùng tool 'say_hello'. \"\n",
    "                \"Nếu user cung cấp tên, truyền cho tool. \"\n",
    "                \"KHÔNG làm gì khác.\",\n",
    "    description=\"Xử lý greetings sử dụng 'say_hello'.\",\n",
    "    tools=[say_hello],\n",
    ")\n",
    "print_success(f\"✅ {Colors.BOLD}{greeting_agent.name}{Colors.ENDC} sẵn sàng!\")\n",
    "\n",
    "# Farewell Agent\n",
    "farewell_agent = Agent(\n",
    "    model=AGENT_MODEL,\n",
    "    name=\"farewell_agent\",\n",
    "    instruction=\"Nhiệm vụ DUY NHẤT: Tạm biệt lịch sự. \"\n",
    "                \"Dùng tool 'say_goodbye' khi user nói bye/tạm biệt. \"\n",
    "                \"KHÔNG làm gì khác.\",\n",
    "    description=\"Xử lý farewells sử dụng 'say_goodbye'.\",\n",
    "    tools=[say_goodbye],\n",
    ")\n",
    "print_success(f\"✅ {Colors.BOLD}{farewell_agent.name}{Colors.ENDC} sẵn sàng!\")"
   ]
  },
  {
   "cell_type": "markdown",
   "metadata": {
    "id": "IFL_TLFPVS5P"
   },
   "source": [
    "---\n",
    "\n",
    "### 🎯 Root Agent với Sub-Agents\n",
    "\n",
    "![](https://raw.githubusercontent.com/chitoan1992/devfest-google-adk/refs/heads/master/media/Root%20and%20SubAgent.svg)\n",
    "\n",
    "**Automatic Delegation Magic:**\n",
    "- Root agent nhận query\n",
    "- LLM xem `description` của các sub-agents\n",
    "- Nếu match → tự động delegate\n",
    "- Sub-agent xử lý với tools riêng\n",
    "\n",
    "> **\"Nếu có 10 sub-agents, performance có bị ảnh hưởng không?\"**\n"
   ]
  },
  {
   "cell_type": "code",
   "execution_count": null,
   "metadata": {
    "colab": {
     "base_uri": "https://localhost:8080/"
    },
    "id": "nniWunchVV8_",
    "outputId": "114f8735-8e46-4016-ba2b-4b45dee8172d"
   },
   "outputs": [
    {
     "name": "stdout",
     "output_type": "stream",
     "text": [
      "\u001b[92m✅ Root Agent '\u001b[1mweather_agent_v2\u001b[0m' với sub-agents:\u001b[0m\n",
      "\u001b[96m   └─ greeting_agent\u001b[0m\n",
      "\u001b[96m   └─ farewell_agent\u001b[0m\n"
     ]
    }
   ],
   "source": [
    "# @title Định nghĩa Root Agent với Sub-Agents\n",
    "\n",
    "weather_agent_team = Agent(\n",
    "    name=\"weather_agent_v2\",\n",
    "    model=AGENT_MODEL,\n",
    "    description=\"Agent điều phối: Weather requests + delegate greetings/farewells.\",\n",
    "    instruction=\"Bạn là Weather Agent chính điều phối team. \"\n",
    "                \"TRÁCH NHIỆM CHÍNH: Cung cấp thông tin thời tiết. \"\n",
    "                \"Dùng 'get_weather' CHỈ cho weather requests. \"\n",
    "                \"\\n\\nSUB-AGENTS: \"\n",
    "                \"1. 'greeting_agent': Xử lý 'Hi', 'Xin chào' → DELEGATE \"\n",
    "                \"2. 'farewell_agent': Xử lý 'Tạm biệt', 'Bye' → DELEGATE \"\n",
    "                \"\\n\\nPHÂN TÍCH query: \"\n",
    "                \"- Greeting? → delegate greeting_agent \"\n",
    "                \"- Farewell? → delegate farewell_agent \"\n",
    "                \"- Weather? → tự xử lý với get_weather \"\n",
    "                \"- Khác? → phản hồi lịch sự hoặc nói không xử lý được\",\n",
    "    tools=[get_weather],\n",
    "    sub_agents=[greeting_agent, farewell_agent]\n",
    ")\n",
    "\n",
    "print_success(f\"✅ Root Agent '{Colors.BOLD}{weather_agent_team.name}{Colors.ENDC}' với sub-agents:\")\n",
    "for sa in weather_agent_team.sub_agents:\n",
    "    print_info(f\"   └─ {sa.name}\")"
   ]
  },
  {
   "cell_type": "markdown",
   "metadata": {
    "id": "Yg-IjZYVVYXe"
   },
   "source": [
    "---\n",
    "\n",
    "### 🎮 Test Agent Team Delegation\n",
    "\n",
    "![](https://raw.githubusercontent.com/chitoan1992/devfest-google-adk/refs/heads/master/media/Multi%20Agent%20Team%20Flow.svg)\n",
    "\n",
    "**Expected Flow:**\n",
    "1. \"Xin chào!\" → `greeting_agent` → `say_hello()`\n",
    "2. \"Thời tiết Hà Nội?\" → `weather_agent_v2` → `get_weather()`\n",
    "3. \"Tạm biệt!\" → `farewell_agent` → `say_goodbye()`\n",
    "\n",
    "> **\"Nếu user hỏi: 'Xin chào! Thời tiết Hà Nội thế nào?' - agent xử lý thế nào?\"**"
   ]
  },
  {
   "cell_type": "code",
   "execution_count": null,
   "metadata": {
    "id": "Ohf6sX3g4CwF"
   },
   "outputs": [],
   "source": [
    "# @title Test Agent Team\n",
    "\n",
    "async def run_team_conversation():\n",
    "    print_header(\"\\n🎬 TESTING AGENT TEAM DELEGATION\")\n",
    "    print(f\"{Colors.BOLD}{Colors.OKCYAN}{'='*60}{Colors.ENDC}\")\n",
    "\n",
    "    # Setup riêng cho test này\n",
    "    session_service = InMemorySessionService()\n",
    "    APP_NAME = \"agent_team_demo\"\n",
    "    USER_ID = \"user_team\"\n",
    "    SESSION_ID = \"session_team_001\"\n",
    "\n",
    "    session = await session_service.create_session(\n",
    "        app_name=APP_NAME, user_id=USER_ID, session_id=SESSION_ID\n",
    "    )\n",
    "    print_success(f\"✅ Session: {Colors.BOLD}{SESSION_ID}{Colors.ENDC}\\n\")\n",
    "\n",
    "    runner_team = Runner(\n",
    "        agent=weather_agent_team,\n",
    "        app_name=APP_NAME,\n",
    "        session_service=session_service\n",
    "    )\n",
    "\n",
    "    # Test delegation\n",
    "    await call_agent_async(\"Xin chào!\",\n",
    "                           runner=runner_team,\n",
    "                           user_id=USER_ID,\n",
    "                           session_id=SESSION_ID)\n",
    "\n",
    "    await call_agent_async(\"Thời tiết ở Đà Nẵng thế nào?\",\n",
    "                           runner=runner_team,\n",
    "                           user_id=USER_ID,\n",
    "                           session_id=SESSION_ID)\n",
    "\n",
    "    await call_agent_async(\"Cảm ơn, tạm biệt!\",\n",
    "                           runner=runner_team,\n",
    "                           user_id=USER_ID,\n",
    "                           session_id=SESSION_ID)\n",
    "\n",
    "    print_header(\"🏁 KẾT THÚC TEST\\n\")\n",
    "\n",
    "await run_team_conversation()"
   ]
  },
  {
   "cell_type": "markdown",
   "metadata": {
    "id": "Zgw3Cn2NVcI7"
   },
   "source": [
    "### 🔍 Phân Tích Kết Quả\n",
    "\n",
    "**Quan sát logs để thấy delegation:**\n",
    "- ✅ \"Xin chào!\" → `say_hello` được gọi\n",
    "- ✅ \"Thời tiết Hà Nội?\" → `get_weather` được gọi\n",
    "- ✅ \"Tạm biệt!\" → `say_goodbye` được gọi\n",
    "\n",
    "**Automatic delegation thành công!** Root agent thông minh định tuyến đúng request đến đúng specialist! 🎯"
   ]
  },
  {
   "cell_type": "markdown",
   "metadata": {
    "id": "no4fxSvlpRO4"
   },
   "source": [
    "---\n",
    "\n",
    "## 🚀 Bước 3: ADK Starter Pack - Xây Dựng Fullstack Agent App\n",
    "\n",
    "### Tại Sao Cần ADK Starter Pack?\n",
    "\n",
    "**Vấn đề:** Bạn đã biết cách build agents, nhưng:\n",
    "- ❌ Phải setup project từ đầu (structure, config, dependencies...)\n",
    "- ❌ Chưa biết cách integrate frontend với ADK backend\n",
    "- ❌ Mất thời gian research best practices\n",
    "\n",
    "**Giải pháp:** ADK Starter Pack\n",
    "- ✅ Template project ready-to-use\n",
    "- ✅ Fullstack architecture được optimize\n",
    "- ✅ Pre-configured agents & tools\n",
    "- ✅ Modern UI (React/Vue)\n",
    "- ✅ Production-ready setup\n",
    "\n",
    "### ADK Starter Pack là gì?\n",
    "\n",
    "**Agent Starter Pack** = Boilerplate project cho agent applications với:\n",
    "- 🏗️ **Backend:** ADK agents với session management\n",
    "- 🎨 **Frontend:** Modern web UI (React/Vite)\n",
    "- 🔧 **Tools:** Pre-configured utilities\n",
    "- 📦 **DevOps:** Docker, Make commands, deployment configs\n",
    "- 🚀 **Examples:** Sample agents để học\n",
    "\n",
    "![](https://raw.githubusercontent.com/chitoan1992/devfest-google-adk/refs/heads/master/media/Agent%20Starter%20Pack.svg)\n",
    "\n",
    "---"
   ]
  },
  {
   "cell_type": "markdown",
   "metadata": {
    "id": "RJe31wrlpRO4"
   },
   "source": [
    "### 📦 Bước 1: Cài đặt Agent Starter Pack\n",
    "\n",
    "**Có 2 cách cài đặt:**\n",
    "\n",
    "#### Option 1: Sử dụng uvx (Khuyến nghị)\n",
    "```bash\n",
    "uvx agent-starter-pack create my-agent\n",
    "```\n",
    "\n",
    "#### Option 2: Clone từ GitHub\n",
    "```bash\n",
    "git clone https://github.com/GoogleCloudPlatform/agent-starter-pack\n",
    "cd agent-starter-pack\n",
    "```\n",
    "\n",
    "**Chọn template:** `gemini-fullstack`\n",
    "\n",
    "---"
   ]
  },
  {
   "cell_type": "code",
   "execution_count": 9,
   "metadata": {
    "colab": {
     "base_uri": "https://localhost:8080/"
    },
    "id": "oo_czamVpRO4",
    "outputId": "7db05a5c-4aa2-4d37-df54-cb3e1b96b257"
   },
   "outputs": [
    {
     "name": "stdout",
     "output_type": "stream",
     "text": [
      "\u001b[2K   \u001b[90m━━━━━━━━━━━━━━━━━━━━━━━━━━━━━━━━━━━━━━━━\u001b[0m \u001b[32m21.3/21.3 MB\u001b[0m \u001b[31m70.0 MB/s\u001b[0m eta \u001b[36m0:00:00\u001b[0m\n",
      "\u001b[?25h\u001b[92m✅ Đã cài đặt uv!\u001b[0m\n",
      "\u001b[96m💡 Bước tiếp theo:\u001b[0m\n",
      "   1. Mở terminal: Cmd/Ctrl + Shift + P → 'Terminal'\n",
      "   2. Chạy: uvx agent-starter-pack create my-agent\n",
      "   3. Chọn: gemini-fullstack\n"
     ]
    }
   ],
   "source": [
    "# @title Cài đặt uv package manager\n",
    "\n",
    "!pip install -q uv\n",
    "\n",
    "print_success(\"✅ Đã cài đặt uv!\")\n",
    "print_info(\"💡 Bước tiếp theo:\")\n",
    "print(\"   1. Mở terminal: Cmd/Ctrl + Shift + P → 'Terminal'\")\n",
    "print(\"   2. Chạy: uvx agent-starter-pack create my-agent\")\n",
    "print(\"   3. Chọn: gemini-fullstack\")"
   ]
  },
  {
   "cell_type": "markdown",
   "metadata": {
    "id": "sg9c55pnpRO4"
   },
   "source": [
    "### ⚙️ Bước 2: Cấu hình Environment\n",
    "\n",
    "**Tạo file `.env` trong thư mục project:**\n",
    "\n",
    "```bash\n",
    "cd my-agent/app\n",
    "```\n",
    "\n",
    "**Nội dung file `.env`:**\n",
    "```env\n",
    "GOOGLE_GENAI_USE_VERTEXAI=0\n",
    "GOOGLE_API_KEY=your_api_key_here\n",
    "```\n",
    "\n",
    "**💡 Lưu ý:** Thay `your_api_key_here` bằng API key thực tế từ [Google AI Studio](https://aistudio.google.com/app/apikey)\n",
    "\n",
    "---"
   ]
  },
  {
   "cell_type": "code",
   "execution_count": 12,
   "metadata": {
    "colab": {
     "base_uri": "https://localhost:8080/"
    },
    "id": "nRgNQkjjpRO4",
    "outputId": "b5f3f794-74fe-42bc-ba2a-328626e61207"
   },
   "outputs": [
    {
     "name": "stdout",
     "output_type": "stream",
     "text": [
      "\u001b[92m✅ Đã tạo và cấu hình file my-agent/app/.env!\u001b[0m\n"
     ]
    }
   ],
   "source": [
    "# @title (Colab Only) Tạo file .env tự động\n",
    "\n",
    "from google.colab import userdata\n",
    "\n",
    "# Lấy API Key từ Colab userdata\n",
    "api_key = userdata.get('GOOGLE_API_KEY')\n",
    "\n",
    "# Ghi nội dung vào file .env\n",
    "with open('my-agent/app/.env', 'w') as f:\n",
    "    f.write(f\"GOOGLE_GENAI_USE_VERTEXAI=0\\n\")\n",
    "    f.write(f\"GOOGLE_API_KEY={api_key}\\n\")\n",
    "\n",
    "print_success(\"✅ Đã tạo và cấu hình file my-agent/app/.env!\")"
   ]
  },
  {
   "cell_type": "markdown",
   "metadata": {
    "id": "2xqCtCvIpRO4"
   },
   "source": [
    "### 🚀 Bước 3: Chạy Application\n",
    "\n",
    "**Cài đặt dependencies và chạy:**\n",
    "\n",
    "```bash\n",
    "cd gemini-fullstack\n",
    "make install\n",
    "make dev\n",
    "```\n",
    "\n",
    "**Giải thích commands:**\n",
    "- `make install`: Cài đặt Python & Node dependencies\n",
    "- `make dev`: Chạy backend (port 8000) + frontend (port 5173)\n",
    "\n",
    "**Kiểm tra:**\n",
    "- Backend: http://localhost:8000\n",
    "- Frontend: http://localhost:5173\n",
    "- API Docs: http://localhost:8000/docs\n",
    "\n",
    "---"
   ]
  },
  {
   "cell_type": "code",
   "execution_count": null,
   "metadata": {
    "colab": {
     "base_uri": "https://localhost:8080/",
     "height": 582
    },
    "id": "ptyM6oNtpRO4",
    "outputId": "1a6609ec-23fb-471f-f7e4-864bd129691f"
   },
   "outputs": [
    {
     "name": "stdout",
     "output_type": "stream",
     "text": [
      "\u001b[1m\u001b[95m\n",
      "🌐 Khởi động Web UI...\u001b[0m\n",
      "\u001b[96mAgent web interface sẽ hiển thị bên dưới:\u001b[0m\n"
     ]
    },
    {
     "data": {
      "application/javascript": "(async (port, path, width, height, cache, element) => {\n    if (!google.colab.kernel.accessAllowed && !cache) {\n      return;\n    }\n    element.appendChild(document.createTextNode(''));\n    const url = await google.colab.kernel.proxyPort(port, {cache});\n    const iframe = document.createElement('iframe');\n    iframe.src = new URL(path, url).toString();\n    iframe.height = height;\n    iframe.width = width;\n    iframe.style.border = 0;\n    iframe.allow = [\n        'accelerometer',\n        'autoplay',\n        'camera',\n        'clipboard-read',\n        'clipboard-write',\n        'gyroscope',\n        'magnetometer',\n        'microphone',\n        'serial',\n        'usb',\n        'xr-spatial-tracking',\n    ].join('; ');\n    element.appendChild(iframe);\n  })(5173, \"/\", \"100%\", \"400\", false, window.element)",
      "text/plain": [
       "<IPython.core.display.Javascript object>"
      ]
     },
     "metadata": {},
     "output_type": "display_data"
    },
    {
     "name": "stdout",
     "output_type": "stream",
     "text": [
      "\u001b[92m\n",
      "✅ Web UI đã sẵn sàng!\u001b[0m\n",
      "\u001b[96m💡 Tips:\u001b[0m\n",
      "   - UI sẽ load sau khi chạy 'make dev' trong terminal\n",
      "   - Chat với agent để test functionality\n",
      "   - Xem console logs để debug\n"
     ]
    }
   ],
   "source": [
    "# @title (Colab Only) Hiển thị Web UI trong Colab\n",
    "\n",
    "from google.colab import output\n",
    "\n",
    "print_header(\"\\n🌐 Khởi động Web UI...\")\n",
    "print_info(\"Agent web interface sẽ hiển thị bên dưới:\")\n",
    "\n",
    "# Hiển thị web UI (port 5173 cho Vite frontend)\n",
    "output.serve_kernel_port_as_iframe(5173)\n",
    "\n",
    "print_success(\"\\n✅ Web UI đã sẵn sàng!\")\n",
    "print_info(\"💡 Tips:\")\n",
    "print(\"   - UI sẽ load sau khi chạy 'make dev' trong terminal\")\n",
    "print(\"   - Chat với agent để test functionality\")\n",
    "print(\"   - Xem console logs để debug\")\n",
    "\n",
    "# Nếu muốn public URL (optional)\n",
    "# output.serve_kernel_port_as_window(5173)"
   ]
  },
  {
   "cell_type": "markdown",
   "metadata": {
    "id": "NIikSXSZpRO5"
   },
   "source": [
    "### 🎯 Bước 4: Explore Project Structure\n",
    "\n",
    "**Cấu trúc thư mục quan trọng:**\n",
    "\n",
    "```\n",
    "gemini-fullstack/\n",
    "├── app/\n",
    "│   ├── agents/          # Agent definitions\n",
    "│   ├── tools/           # Tool functions\n",
    "│   ├── main.py          # FastAPI backend\n",
    "│   └── .env             # Environment config\n",
    "├── frontend/\n",
    "│   ├── src/\n",
    "│   │   ├── components/  # React components\n",
    "│   │   └── App.tsx      # Main app\n",
    "│   └── package.json\n",
    "├── Makefile             # Development commands\n",
    "└── README.md\n",
    "```\n",
    "\n",
    "**💡 Điểm hay của structure:**\n",
    "- **Separation of Concerns:** Agents, tools, UI tách biệt\n",
    "- **Modularity:** Dễ thêm agents/tools mới\n",
    "- **Type Safety:** TypeScript + Python typing\n",
    "- **Dev Experience:** Hot reload, linting, formatting\n",
    "\n",
    "---"
   ]
  },
  {
   "cell_type": "markdown",
   "metadata": {
    "id": "khTih7CzpRO5"
   },
   "source": [
    "### 🧪 Bước 5: Tương tác và Customize\n",
    "\n",
    "**Bây giờ bạn có thể:**\n",
    "- 💬 **Chat với agent** qua web interface\n",
    "- 🧪 **Test features** của fullstack application\n",
    "- 🔧 **Xem code** trong `app/agents/` để học\n",
    "- 🚀 **Customize agent** cho use case của bạn\n",
    "\n",
    "**Sample Customization Tasks:**\n",
    "```\n",
    "1. Thêm tool mới vào agent (ví dụ: calculator, search)\n",
    "2. Tạo agent mới cho domain khác\n",
    "3. Customize UI theme và layout\n",
    "4. Add authentication & user management\n",
    "```\n",
    "\n",
    "**💡 Tips:**\n",
    "- Start từ example agents\n",
    "- Copy-paste patterns từ workshop này\n",
    "- Đọc ADK docs khi cần: https://github.com/google/adk-python\n",
    "- Test thoroughly trước khi deploy\n",
    "\n",
    "---\n",
    "\n",
    "## 🎉 Hoàn Thành Bước 3!\n",
    "\n",
    "**Bạn đã:**\n",
    "- ✅ Setup fullstack agent application\n",
    "- ✅ Chạy agent với professional UI\n",
    "- ✅ Hiểu project structure và best practices\n",
    "- ✅ Sẵn sàng build production apps!\n",
    "\n",
    "**Tiếp theo:** Áp dụng vào hackathon workflow! 🚀"
   ]
  },
  {
   "cell_type": "markdown",
   "metadata": {
    "id": "7s5eW0tlEpCn"
   },
   "source": [
    "---\n",
    "\n",
    "## 🎁 BONUS: Hackathon Power Tools\n",
    "\n",
    "**Bây giờ bạn đã biết cách xây dựng agents và setup fullstack app, hãy áp dụng vào hackathon!**\n",
    "\n",
    "### 🚀 Roadmap: MVP → Pitch\n",
    "\n",
    "```\n",
    "📋 MVP Planner  →  🎤 Pitch Generator\n",
    "(Planning Agent)     (Pitch Agent)\n",
    "      ↓                    ↓\n",
    " Project Brief       Landing Page\n",
    "```\n",
    "\n",
    "**Mục tiêu:** Trong 25 phút, bạn sẽ có:\n",
    "- ✅ Project brief chi tiết cho MVP\n",
    "- ✅ Pitch deck/landing page chuyên nghiệp"
   ]
  },
  {
   "cell_type": "markdown",
   "metadata": {
    "id": "bBMNxjCpEpCs"
   },
   "source": [
    "## 📋 Bonus 1: MVP Planning Agent (15 phút)\n",
    "\n",
    "### Mục Tiêu\n",
    "Biến ý tưởng thành **Project Brief** chi tiết để xây dựng MVP trong hackathon.\n",
    "\n",
    "### Agent Workflow\n",
    "\n",
    "```\n",
    "💡 Hackathon Idea\n",
    "     ↓\n",
    "🎯 User Empathy Analysis\n",
    "     ↓\n",
    "✨ Feature Generation\n",
    "     ↓\n",
    "🔍 MVP Scope (Minimalism)\n",
    "     ↓\n",
    "📄 Project Brief → AI Studio Builder\n",
    "```\n",
    "\n",
    "### Tại Sao Cần Planning Agent?\n",
    "\n",
    "**Vấn đề:** Ý tưởng hay nhưng:\n",
    "- ❌ Scope quá rộng → không hoàn thành trong hackathon\n",
    "- ❌ Không focus vào core value\n",
    "- ❌ Over-engineering\n",
    "\n",
    "**Giải pháp:** Planning Agent tự động:\n",
    "- ✅ Phân tích user needs\n",
    "- ✅ Generate features + prioritize\n",
    "- ✅ Shortlist MVP scope (đủ để demo, không quá phức tạp)\n",
    "- ✅ Tạo brief rõ ràng cho AI builders\n",
    "\n",
    "---"
   ]
  },
  {
   "cell_type": "code",
   "execution_count": 14,
   "metadata": {
    "colab": {
     "base_uri": "https://localhost:8080/"
    },
    "id": "SU-05brjEpCs",
    "outputId": "52bbfd7c-af98-42c2-a73e-7a689f688d02"
   },
   "outputs": [
    {
     "name": "stdout",
     "output_type": "stream",
     "text": [
      "\u001b[92m✅ MVP Planning Agent '\u001b[1mmvp_planning_agent\u001b[0m' sẵn sàng!\u001b[0m\n"
     ]
    }
   ],
   "source": [
    "# @title Tạo MVP Planning Agent\n",
    "\n",
    "mvp_planning_agent = Agent(\n",
    "    name=\"mvp_planning_agent\",\n",
    "    model=AGENT_MODEL,\n",
    "    description=\"Phân tích ý tưởng hackathon và tạo MVP project brief chi tiết.\",\n",
    "    instruction=\"\"\"Bạn là MVP Planning Expert cho hackathons.\n",
    "\n",
    "NHIỆM VỤ:\n",
    "1. Phân tích target users và pain points\n",
    "2. Generate features và prioritize theo MOSCOW method\n",
    "3. Tạo MVP brief tập trung vào core value\n",
    "\n",
    "NGUYÊN TẮC MINIMALISM:\n",
    "- MVP = Minimum **Viable** Product (đủ để validate, KHÔNG phải đầy đủ)\n",
    "- Chỉ giữ lại features MUST-HAVE cho demo\n",
    "- Đừng over-engineer: Simple > Complex trong hackathon\n",
    "- Focus: 3-5 core features là đủ\n",
    "\n",
    "WORKFLOW:\n",
    "1. Nhận ý tưởng từ user\n",
    "2. Sử dụng tư duy empathy để hiểu users\n",
    "3. List những features tối thiểu thiết cho MVP\n",
    "4. Tạo brief document\n",
    "\n",
    "OUTPUT:\n",
    "- Project Brief format chuẩn (Markdown)\n",
    "- Sẵn sàng copy-paste vào AI Studio Builder/WebSim\n",
    "- Rõ ràng, actionable, focused\n",
    "\n",
    "QUAN TRỌNG:\n",
    "- KHÔNG thêm quá nhiều features\n",
    "- KHÔNG gợi ý tech stack phức tạp\n",
    "- CÓ giải thích WHY cho mỗi must-have feature\n",
    "\"\"\"\n",
    ")\n",
    "\n",
    "print_success(f\"✅ MVP Planning Agent '{Colors.BOLD}{mvp_planning_agent.name}{Colors.ENDC}' sẵn sàng!\")"
   ]
  },
  {
   "cell_type": "code",
   "execution_count": null,
   "metadata": {
    "colab": {
     "base_uri": "https://localhost:8080/"
    },
    "id": "_lgRKEDeEpCs",
    "outputId": "5b32f257-3465-440a-b0a1-5b1461d79e27"
   },
   "outputs": [],
   "source": [
    "# @title Test MVP Planning Agent\n",
    "\n",
    "async def run_mvp_planning():\n",
    "    print_header(\"\\n🎬 TESTING MVP PLANNING AGENT\")\n",
    "\n",
    "    # Setup session\n",
    "    session_service_mvp = InMemorySessionService()\n",
    "    APP_NAME_MVP = \"mvp_planner_demo\"\n",
    "    USER_ID_MVP = \"user_planner\"\n",
    "    SESSION_ID_MVP = \"session_planner_001\"\n",
    "\n",
    "    session_mvp = await session_service_mvp.create_session(\n",
    "        app_name=APP_NAME_MVP,\n",
    "        user_id=USER_ID_MVP,\n",
    "        session_id=SESSION_ID_MVP\n",
    "    )\n",
    "    print_success(f\"✅ Session: {Colors.BOLD}{SESSION_ID_MVP}{Colors.ENDC}\\n\")\n",
    "\n",
    "    runner_mvp = Runner(\n",
    "        agent=mvp_planning_agent,\n",
    "        app_name=APP_NAME_MVP,\n",
    "        session_service=session_service_mvp\n",
    "    )\n",
    "\n",
    "    # Test với ý tưởng từ Bonus 1\n",
    "    test_idea = \"\"\"\n",
    "    Ý tưởng hackathon: \"Study Buddy AI\"\n",
    "\n",
    "    Mô tả: Ứng dụng AI giúp sinh viên tìm partner học tập phù hợp dựa trên:\n",
    "    - Môn học/subject\n",
    "    - Learning style (visual, auditory, kinesthetic)\n",
    "    - Schedule availability\n",
    "    - Goals (pass exam, deep understanding, project)\n",
    "\n",
    "    Sử dụng Gemini AI để match và gợi ý study plans.\n",
    "    \"\"\"\n",
    "\n",
    "    await call_agent_async(\n",
    "        f\"Hãy phân tích ý tưởng này và tạo MVP brief chi tiết:\\\\n{test_idea}\",\n",
    "        runner=runner_mvp,\n",
    "        user_id=USER_ID_MVP,\n",
    "        session_id=SESSION_ID_MVP\n",
    "    )\n",
    "\n",
    "    print_header(\"🏁 KẾT THÚC TEST\\n\")\n",
    "    print_info(\"📋 Copy brief ở trên và paste vào:\")\n",
    "    print(\"   → https://aistudio.google.com/apps\")\n",
    "    print(\"   → hoặc https://websim.ai\")\n",
    "\n",
    "await run_mvp_planning()"
   ]
  },
  {
   "cell_type": "markdown",
   "metadata": {
    "id": "cMkb_bVmEpCs"
   },
   "source": [
    "### 🚀 Sử Dụng Brief với AI Builders\n",
    "\n",
    "**Workflow:**\n",
    "1. ✅ Copy MVP Brief từ agent output\n",
    "2. 🌐 Mở [Google AI Studio Apps](https://aistudio.google.com/apps)\n",
    "3. 📝 Paste brief vào prompt\n",
    "4. ⚡ AI Studio tự động generate:\n",
    "   - React components\n",
    "   - API endpoints\n",
    "   - UI/UX design\n",
    "   - Deployment config\n",
    "\n",
    "**Alternative Builders:**\n",
    "- [Builder.io](https://www.builder.io/) - Visual-first\n",
    "- [Replit](https://replit.com/) - Full IDE\n",
    "- [WebSim](https://websim.ai) - Instant prototypes\n",
    "\n",
    "**💡 Pro Tip:** Brief càng chi tiết → App generated càng chính xác!\n",
    "\n",
    "---"
   ]
  },
  {
   "cell_type": "markdown",
   "metadata": {
    "id": "kzV4PY32EpCs"
   },
   "source": [
    "## 🎤 Bonus 2: Pitch Generator Agent (10 phút)\n",
    "\n",
    "### Mục Tiêu\n",
    "Tạo **Irresistible Pitch** biến judges từ skeptical → excited!\n",
    "\n",
    "### The 4 Pillars of Winning Pitches\n",
    "\n",
    "```\n",
    "🎯 Extreme Clarity  → Judges hiểu ngay bạn làm gì\n",
    "💎 Obvious Value    → ROI/Impact rõ ràng không cần giải thích\n",
    "⚡ Low Friction    → Demo mượt, dễ imagine adoption\n",
    "📦 Smart Packaging  → Every slide có job, không filler\n",
    "```\n",
    "\n",
    "### Pitch Structure\n",
    "\n",
    "```\n",
    "🎬 Hook (15s)         → \"Imagine...\"\n",
    "💔 Problem (30s)      → Real pain + stats\n",
    "✨ Solution (45s)     → Your product demo\n",
    "📊 Traction (30s)     → Validation/MVP results  \n",
    "🚀 Ask (15s)          → Clear next steps\n",
    "```\n",
    "\n",
    "**Total: 135 seconds = 2m15s** (perfect cho 3-5 min pitch với Q&A buffer)\n",
    "\n",
    "---"
   ]
  },
  {
   "cell_type": "code",
   "execution_count": 16,
   "metadata": {
    "colab": {
     "base_uri": "https://localhost:8080/"
    },
    "id": "rQ-mGRrVEpCs",
    "outputId": "c06ecf85-d963-430b-c878-84102d5408d1"
   },
   "outputs": [
    {
     "name": "stdout",
     "output_type": "stream",
     "text": [
      "\u001b[92m✅ Pitch Generator Agent '\u001b[1mpitch_generator_agent\u001b[0m' sẵn sàng!\u001b[0m\n"
     ]
    }
   ],
   "source": [
    "# @title Tạo Pitch Generator Agent\n",
    "\n",
    "pitch_generator_agent = Agent(\n",
    "    name=\"pitch_generator_agent\",\n",
    "    model=AGENT_MODEL,\n",
    "    description=\"Tạo irresistible hackathon pitch với 4 pillars: clarity, value, low friction, smart packaging.\",\n",
    "    instruction=\"\"\"Bạn là Hackathon Pitch Expert - giúp teams thắng competitions.\n",
    "\n",
    "4 PILLARS OF WINNING PITCHES:\n",
    "\n",
    "1️⃣ **EXTREME CLARITY**\n",
    "   - Judges hiểu product trong 10 giây\n",
    "   - No jargon, no complexity\n",
    "   - Format: \"[Product] helps [User] do [Action] in [Timeframe]\"\n",
    "\n",
    "2️⃣ **OBVIOUS VALUE**\n",
    "   - ROI rõ ràng (time saved, money saved, problem solved)\n",
    "   - Use numbers & comparisons\n",
    "   - Before/After contrast\n",
    "\n",
    "3️⃣ **LOW FRICTION**\n",
    "   - Demo phải mượt (no bugs visible!)\n",
    "   - Judges có thể imagine adoption dễ dàng\n",
    "   - Address objections proactively\n",
    "\n",
    "4️⃣ **SMART PACKAGING**\n",
    "   - Every slide có purpose\n",
    "   - No filler content\n",
    "   - Hook → Problem → Solution → Traction → Ask\n",
    "\n",
    "WORKFLOW:\n",
    "1. Nhận ý tưởng từ user\n",
    "2. Create hook for Opening powerful\n",
    "3. Define problem statement\n",
    "4. Craft solution pitch\n",
    "5. Generate pitch desk\n",
    "\n",
    "OUTPUT FORMAT:\n",
    "- Markdown structure (easy to copy)\n",
    "- Ready for Gemini Canvas → HTML landing page\n",
    "- Timing notes cho presenter\n",
    "- Clear CTAs\n",
    "\n",
    "REMEMBER:\n",
    "- Judges see 20+ pitches → yours must POP\n",
    "- Story > Features\n",
    "- Passion > Polish (authenticity wins)\n",
    "- Practice demo 10x before pitch\n",
    "\"\"\"\n",
    ")\n",
    "\n",
    "print_success(f\"✅ Pitch Generator Agent '{Colors.BOLD}{pitch_generator_agent.name}{Colors.ENDC}' sẵn sàng!\")"
   ]
  },
  {
   "cell_type": "code",
   "execution_count": null,
   "metadata": {
    "colab": {
     "base_uri": "https://localhost:8080/"
    },
    "id": "twzPxvc3EpCs",
    "outputId": "b06cfa40-193f-4d2a-ede5-8e3d60303d1d"
   },
   "outputs": [],
   "source": [
    "# @title Test Pitch Generator Agent\n",
    "\n",
    "async def run_pitch_generator():\n",
    "    print_header(\"\\n🎬 TESTING PITCH GENERATOR AGENT\")\n",
    "\n",
    "    # Setup session\n",
    "    session_service_pitch = InMemorySessionService()\n",
    "    APP_NAME_PITCH = \"pitch_generator_demo\"\n",
    "    USER_ID_PITCH = \"user_pitcher\"\n",
    "    SESSION_ID_PITCH = \"session_pitch_001\"\n",
    "\n",
    "    session_pitch = await session_service_pitch.create_session(\n",
    "        app_name=APP_NAME_PITCH,\n",
    "        user_id=USER_ID_PITCH,\n",
    "        session_id=SESSION_ID_PITCH\n",
    "    )\n",
    "    print_success(f\"✅ Session: {Colors.BOLD}{SESSION_ID_PITCH}{Colors.ENDC}\\n\")\n",
    "\n",
    "    runner_pitch = Runner(\n",
    "        agent=pitch_generator_agent,\n",
    "        app_name=APP_NAME_PITCH,\n",
    "        session_service=session_service_pitch\n",
    "    )\n",
    "\n",
    "    # Test với ý tưởng từ Bonus 1\n",
    "    pitch_request = \"\"\"\n",
    "    Tạo pitch deck cho hackathon idea:\n",
    "\n",
    "    **Study Buddy AI**\n",
    "    Ứng dụng AI matching students với study partners phù hợp dựa trên:\n",
    "    - Learning style\n",
    "    - Subject/major\n",
    "    - Schedule\n",
    "    - Goals\n",
    "\n",
    "    Target: University students in Vietnam\n",
    "    Tech: Gemini AI + React + Firebase\n",
    "    MVP đã có demo working\n",
    "\n",
    "    Cần pitch trong 3 phút để thuyết phục judges.\n",
    "    \"\"\"\n",
    "\n",
    "    await call_agent_async(\n",
    "        pitch_request,\n",
    "        runner=runner_pitch,\n",
    "        user_id=USER_ID_PITCH,\n",
    "        session_id=SESSION_ID_PITCH\n",
    "    )\n",
    "\n",
    "    print_header(\"🏁 KẾT THÚC TEST\\n\")\n",
    "    print_info(\"🎨 Bước tiếp theo:\")\n",
    "    print(\"   1. Copy pitch content ở trên\")\n",
    "    print(\"   2. Mở Gemini hoặc Claude\")\n",
    "    print(\"   3. Prompt: 'Create an HTML landing page from this pitch:'\")\n",
    "    print(\"   4. Paste pitch content\")\n",
    "    print(\"   5. → Gemini generates beautiful landing page HTML!\")\n",
    "    print(\"   6. Save as index.html và deploy lên Vercel/Netlify\")\n",
    "\n",
    "await run_pitch_generator()"
   ]
  },
  {
   "cell_type": "markdown",
   "metadata": {
    "id": "0IkhuHZcEpCt"
   },
   "source": [
    "### 🎨 Sử Dụng Pitch với Gemini Canvas\n",
    "\n",
    "**Workflow: Pitch → Landing Page**\n",
    "\n",
    "1. **Copy pitch output** từ agent\n",
    "2. **Open Gemini** (hoặc Claude Canvas)\n",
    "3. **Prompt:**\n",
    "```\n",
    "Create a modern, professional HTML landing page for this hackathon project.\n",
    "\n",
    "Use these design principles:\n",
    "- Hero section với compelling headline\n",
    "- Problem-Solution sections với visuals\n",
    "- Demo video/screenshots placeholder\n",
    "- Clear CTA buttons\n",
    "- Responsive design (Tailwind CSS)\n",
    "- Smooth animations\n",
    "\n",
    "Here's the pitch content:\n",
    "[PASTE YOUR PITCH]\n",
    "```\n",
    "\n",
    "4. **Gemini generates** complete HTML + CSS\n",
    "5. **Download** và deploy lên:\n",
    "   - [Vercel](https://vercel.com) (1-click)\n",
    "   - [Netlify](https://netlify.com) (drag & drop)\n",
    "   - [GitHub Pages](https://pages.github.com) (free)\n",
    "\n",
    "**💡 Pro Tip:** Thêm demo video/GIF vào landing page → conversion rate ↑↑↑\n",
    "\n",
    "---"
   ]
  },
  {
   "cell_type": "markdown",
   "metadata": {
    "id": "TS5SyTqeEpCt"
   },
   "source": [
    "---\n",
    "\n",
    "## 🎊 Bonus Summary: Your Hackathon Toolkit\n",
    "\n",
    "**Trong 25 phút, bạn đã có:**\n",
    "\n",
    "### 📋 Bonus 1: MVP Planning Agent\n",
    "- ✅ User empathy analysis\n",
    "- ✅ Feature prioritization (MoSCoW)\n",
    "- ✅ Project brief → AI Studio Builder\n",
    "- ✅ Focus on minimalism & core value\n",
    "\n",
    "### 🎤 Bonus 2: Pitch Generator Agent\n",
    "- ✅ 4-pillar pitch framework\n",
    "- ✅ Complete deck với timing\n",
    "- ✅ Pitch content → Gemini Canvas → Landing page\n",
    "- ✅ Ready to impress judges\n",
    "\n",
    "---\n",
    "\n",
    "## 🚀 Complete Workshop Flow\n",
    "\n",
    "```\n",
    "START\n",
    "  ↓\n",
    "🌤️ Bước 1: Single Agent với Tools\n",
    "  ↓\n",
    "👥 Bước 2: Multi-Agent Team với Delegation\n",
    "  ↓\n",
    "🚀 Bước 3: Fullstack App với ADK Starter Pack\n",
    "  ↓\n",
    "📋 Bonus 1: MVP Planning Agent → AI Studio → App\n",
    "  ↓\n",
    "🎤 Bonus 2: Pitch Generator → Gemini Canvas → Landing Page\n",
    "  ↓\n",
    "🏆 BUILD & WIN!\n",
    "```\n",
    "\n",
    "**Total Time:**\n",
    "- Core Workshop: 60 min (Agent basics + Multi-agent + ADK Starter Pack)\n",
    "- Bonus: 25 min (MVP Planning + Pitch Generation)\n",
    "- **= 85-90 minutes complete workshop!**\n",
    "\n",
    "---\n",
    "\n",
    "## 💪 Vibe Coding Challenge: Your Turn!\n",
    "\n",
    "**Nhiệm vụ cuối:**\n",
    "1. ✅ Customize agent từ Starter Pack cho ý tưởng của bạn\n",
    "2. ✅ Run qua Planning & Pitch agents (Bonus 1 & 2)\n",
    "3. ✅ Deploy MVP lên Vercel/Replit\n",
    "4. ✅ Publish landing page\n",
    "5. ✅ Share với group!\n",
    "\n",
    "**Deadline:** Before end of workshop!\n",
    "\n",
    "**Prize:** Best project wins bragging rights + potential mentorship! 🏆\n",
    "\n",
    "---"
   ]
  },
  {
   "cell_type": "markdown",
   "metadata": {
    "id": "T5TpmtEnEpCt"
   },
   "source": [
    "## 🎓 Final Thoughts\n",
    "\n",
    "### Quote to Remember\n",
    "\n",
    "> **\"Your job is no longer to write code. Your job is to write the story — the WHY and WHAT — so clearly that AI will handle the HOW. Focus on orchestrating outcomes, not obsessing over implementation details.\"**\n",
    "\n",
    "### Key Learnings\n",
    "\n",
    "**From Today's Workshop:**\n",
    "- 🤖 **Bước 1:** Built single agent with tools\n",
    "- 👥 **Bước 2:** Created multi-agent teams with delegation\n",
    "- 🚀 **Bước 3:** Setup fullstack app với ADK Starter Pack\n",
    "- 📋 **Bonus 1:** MVP Planning Agent cho hackathons\n",
    "- 🎤 **Bonus 2:** Pitch Generator Agent cho presentations\n",
    "- ⚡ **Applied:** Real hackathon workflow from idea to pitch\n",
    "\n",
    "**What's Next:**\n",
    "- Explore more [MCP servers](https://github.com/modelcontextprotocol/servers)\n",
    "- Build complex multi-agent systems\n",
    "- Contribute to [ADK community](https://github.com/google/adk-python)\n",
    "- Share your hackathon wins!\n",
    "\n",
    "### Resources\n",
    "\n",
    "**Documentation:**\n",
    "- [ADK Python Docs](https://github.com/google/adk-python)\n",
    "- [Agent Starter Pack](https://github.com/GoogleCloudPlatform/agent-starter-pack)\n",
    "- [Google AI Studio](https://aistudio.google.com)\n",
    "\n",
    "**Tools Mentioned:**\n",
    "- [AI Studio Apps Builder](https://aistudio.google.com/apps)\n",
    "- [Builder.io](https://www.builder.io)\n",
    "- [Replit](https://replit.com)\n",
    "\n",
    "---\n",
    "\n",
    "## 🙏 Thank You!\n",
    "\n",
    "**Cảm ơn các bạn đã tham gia workshop!**\n",
    "\n",
    "Stay connected:\n",
    "- Workshop repo: [Github](https://github.com/chitoan1992/devfest-google-adk)\n",
    "- Community: [GDG Miền Trung](https://www.facebook.com/Gdgmientrung/)\n",
    "- Feedback form: [Link](https://app.formbricks.com/s/cmgv2723h05paad018xlyabgq)\n",
    "\n",
    "![](https://raw.githubusercontent.com/chitoan1992/devfest-google-adk/refs/heads/master/media/You%20complete%20me.svg)\n",
    "\n",
    "**Remember:** The best way to learn is to build. Go create something amazing! 🚀\n",
    "\n",
    "---\n",
    "\n",
    "**🤖 Built with Google ADK | GDG DevFest Đà Nẵng 2025**"
   ]
  }
 ],
 "metadata": {
  "colab": {
   "provenance": []
  },
  "kernelspec": {
   "display_name": "gemini-fullstack",
   "language": "python",
   "name": "python3"
  },
  "language_info": {
   "codemirror_mode": {
    "name": "ipython",
    "version": 3
   },
   "file_extension": ".py",
   "mimetype": "text/x-python",
   "name": "python",
   "nbconvert_exporter": "python",
   "pygments_lexer": "ipython3",
   "version": "3.10.18"
  }
 },
 "nbformat": 4,
 "nbformat_minor": 0
}
